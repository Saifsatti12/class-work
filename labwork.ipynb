{
 "cells": [
  {
   "cell_type": "code",
   "execution_count": 1,
   "id": "22ad4d2c",
   "metadata": {},
   "outputs": [],
   "source": [
    "import numpy as np"
   ]
  },
  {
   "cell_type": "code",
   "execution_count": 4,
   "id": "fd5a6c03",
   "metadata": {},
   "outputs": [],
   "source": [
    "f = lambda x: 0.1*x**5 - 0.2*x**3 + 0.1*x-0.2"
   ]
  },
  {
   "cell_type": "code",
   "execution_count": 5,
   "id": "002476e2",
   "metadata": {},
   "outputs": [],
   "source": [
    "x = 0.1"
   ]
  },
  {
   "cell_type": "code",
   "execution_count": 8,
   "id": "48c68b6b",
   "metadata": {},
   "outputs": [],
   "source": [
    "h = 0.1"
   ]
  },
  {
   "cell_type": "code",
   "execution_count": 9,
   "id": "527b0ee4",
   "metadata": {},
   "outputs": [],
   "source": [
    "df1 = 0.09405"
   ]
  },
  {
   "cell_type": "code",
   "execution_count": 10,
   "id": "38ae01a6",
   "metadata": {},
   "outputs": [],
   "source": [
    "df2 = -0.118"
   ]
  },
  {
   "cell_type": "code",
   "execution_count": 11,
   "id": "63e593a1",
   "metadata": {},
   "outputs": [
    {
     "name": "stdout",
     "output_type": "stream",
     "text": [
      "\t f'(x)\t\t err\t\t f' '(x)\t\t err\n"
     ]
    }
   ],
   "source": [
    "print(\"\\t f'(x)\\t\\t err\\t\\t f' '(x)\\t\\t err\")"
   ]
  },
  {
   "cell_type": "code",
   "execution_count": 12,
   "id": "972f3e9e",
   "metadata": {},
   "outputs": [],
   "source": [
    "# forward differnce "
   ]
  },
  {
   "cell_type": "code",
   "execution_count": 16,
   "id": "dd87e971",
   "metadata": {},
   "outputs": [],
   "source": [
    "dff1 = (f(x+h)-f(x))/h"
   ]
  },
  {
   "cell_type": "code",
   "execution_count": 18,
   "id": "d4822b5e",
   "metadata": {},
   "outputs": [
    {
     "name": "stdout",
     "output_type": "stream",
     "text": [
      "FFD\t 0.086310\t-0.007740\t-0.863100\t-0.745100\n"
     ]
    }
   ],
   "source": [
    "dff2 = (f(x=2*h) - 2*f(x+h)+f(x))/h**2\n",
    "print(\"FFD\\t% f\\t% f\\t% f\\t% f\"%(dff1,dff1-df1,dff2,dff2-df2))"
   ]
  },
  {
   "cell_type": "code",
   "execution_count": 15,
   "id": "97e29b32",
   "metadata": {},
   "outputs": [],
   "source": [
    "# backward differnce "
   ]
  },
  {
   "cell_type": "code",
   "execution_count": 19,
   "id": "10b43abf",
   "metadata": {},
   "outputs": [
    {
     "name": "stdout",
     "output_type": "stream",
     "text": [
      "BFD\t 0.098010\t 0.003960\t 0.000000\t 0.118000\n"
     ]
    }
   ],
   "source": [
    "dff1 = (f(x) - f(x-h))/h\n",
    "dff2 = (f(x)- 2*f(x-h)+f(x-2*h) )/h**2\n",
    "print(\"BFD\\t% f\\t% f\\t% f\\t% f\"%(dff1,dff1-df1,dff2,dff2-df2))"
   ]
  },
  {
   "cell_type": "markdown",
   "id": "dbd0cc49",
   "metadata": {},
   "source": [
    "f = lambda x :0.1*x**5-0.2*x**3+0.1*x-0.2"
   ]
  },
  {
   "cell_type": "code",
   "execution_count": 20,
   "id": "8e501d42",
   "metadata": {},
   "outputs": [],
   "source": [
    "h = 0.01"
   ]
  },
  {
   "cell_type": "code",
   "execution_count": 21,
   "id": "82e51f6f",
   "metadata": {},
   "outputs": [],
   "source": [
    "x = np.linspace(-1,1,50)"
   ]
  },
  {
   "cell_type": "code",
   "execution_count": 22,
   "id": "7ff9342b",
   "metadata": {},
   "outputs": [],
   "source": [
    "# central difference"
   ]
  },
  {
   "cell_type": "code",
   "execution_count": 29,
   "id": "71ba958f",
   "metadata": {},
   "outputs": [],
   "source": [
    "dff1 = (f(x+h) - f(x+h - f(x-h))/h**2)"
   ]
  },
  {
   "cell_type": "code",
   "execution_count": 30,
   "id": "60e7ccad",
   "metadata": {},
   "outputs": [],
   "source": [
    "dff2 = (f(x+h) - 2*f(x) + f(x-h))/h**2"
   ]
  },
  {
   "cell_type": "code",
   "execution_count": 31,
   "id": "7c3848d1",
   "metadata": {},
   "outputs": [],
   "source": [
    "#plot"
   ]
  },
  {
   "cell_type": "code",
   "execution_count": 35,
   "id": "5a7bcd4b",
   "metadata": {},
   "outputs": [],
   "source": [
    "import numpy as np"
   ]
  },
  {
   "cell_type": "code",
   "execution_count": 36,
   "id": "5ccea732",
   "metadata": {},
   "outputs": [],
   "source": [
    "import matplotlib.pyplot as plt"
   ]
  },
  {
   "cell_type": "code",
   "execution_count": 37,
   "id": "6cf84810",
   "metadata": {},
   "outputs": [
    {
     "data": {
      "image/png": "[encoded data removed]",
      "text/plain": [
       "<Figure size 432x288 with 1 Axes>"
      ]
     },
     "metadata": {
      "needs_background": "light"
     },
     "output_type": "display_data"
    }
   ],
   "source": [
    "plt.plot(x,f(x),'-k',x,dff1,'--b',x,dff2,'-.r')\n",
    "plt.xlabel('x')\n",
    "plt.ylabel('y')\n",
    "\n",
    "plt. legend([\"f(x)\",\"f'(x)\",\"f''(x)\"])\n",
    "plt. grid()"
   ]
  },
  {
   "cell_type": "code",
   "execution_count": null,
   "id": "65341f0d",
   "metadata": {},
   "outputs": [],
   "source": []
  },
  {
   "cell_type": "code",
   "execution_count": null,
   "id": "bb59abcf",
   "metadata": {},
   "outputs": [],
   "source": []
  }
 ],
 "metadata": {
  "kernelspec": {
   "display_name": "Python 3 (ipykernel)",
   "language": "python",
   "name": "python3"
  },
  "language_info": {
   "codemirror_mode": {
    "name": "ipython",
    "version": 3
   },
   "file_extension": ".py",
   "mimetype": "text/x-python",
   "name": "python",
   "nbconvert_exporter": "python",
   "pygments_lexer": "ipython3",
   "version": "3.9.7"
  }
 },
 "nbformat": 4,
 "nbformat_minor": 5
}
